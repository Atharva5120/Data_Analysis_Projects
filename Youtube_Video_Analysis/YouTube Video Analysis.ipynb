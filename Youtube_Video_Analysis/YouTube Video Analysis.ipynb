{
 "cells": [
  {
   "cell_type": "markdown",
   "id": "f0652dc8",
   "metadata": {},
   "source": [
    "# Youtube sentiment Analysis "
   ]
  },
  {
   "cell_type": "markdown",
   "id": "a390577b",
   "metadata": {},
   "source": [
    "### Importing necessary libraries "
   ]
  },
  {
   "cell_type": "code",
   "execution_count": 1,
   "id": "b591f84e",
   "metadata": {},
   "outputs": [],
   "source": [
    "import pandas as pd # Pandas for analyzing, cleaning, exploring and manipulating the data\n",
    "import numpy as np # Numpy to work with arrays\n",
    "import matplotlib.pyplot as plt # Data visualization library \n",
    "import seaborn as sns # advance data visualization\n",
    "import pandoc\n",
    "\n",
    "import warnings \n",
    "from warnings import filterwarnings\n",
    "filterwarnings('ignore')"
   ]
  },
  {
   "cell_type": "code",
   "execution_count": 2,
   "id": "4679c60e",
   "metadata": {},
   "outputs": [
    {
     "name": "stderr",
     "output_type": "stream",
     "text": [
      "Skipping line 41589: expected 4 fields, saw 11\n",
      "Skipping line 51628: expected 4 fields, saw 7\n",
      "Skipping line 114465: expected 4 fields, saw 5\n",
      "\n",
      "Skipping line 142496: expected 4 fields, saw 8\n",
      "Skipping line 189732: expected 4 fields, saw 6\n",
      "Skipping line 245218: expected 4 fields, saw 7\n",
      "\n",
      "Skipping line 388430: expected 4 fields, saw 5\n",
      "\n"
     ]
    }
   ],
   "source": [
    "data = pd.read_csv(r'UScomments.csv', error_bad_lines = False) "
   ]
  },
  {
   "cell_type": "markdown",
   "id": "c102ed17",
   "metadata": {},
   "source": [
    "- r/R used to create raw string The r before the string denotes a raw string literal in Python. This means that backslashes within the string are treated as literal backslashes, and not as escape characters. In this context, it ensures that the file path is interpreted correctly, though in this specific case, it isn't strictly necessary since there are no backslashes in the string."
   ]
  },
  {
   "cell_type": "markdown",
   "id": "ea1ff131",
   "metadata": {},
   "source": [
    "- error_bad_line is used to Handle Errors. If the file contains rows that do not conform to the expected structure (e.g., a row has too many or too few columns), those rows will be skipped instead of causing the function to throw an error."
   ]
  },
  {
   "cell_type": "code",
   "execution_count": 3,
   "id": "52bee526",
   "metadata": {
    "scrolled": true
   },
   "outputs": [
    {
     "data": {
      "text/html": [
       "<div>\n",
       "<style scoped>\n",
       "    .dataframe tbody tr th:only-of-type {\n",
       "        vertical-align: middle;\n",
       "    }\n",
       "\n",
       "    .dataframe tbody tr th {\n",
       "        vertical-align: top;\n",
       "    }\n",
       "\n",
       "    .dataframe thead th {\n",
       "        text-align: right;\n",
       "    }\n",
       "</style>\n",
       "<table border=\"1\" class=\"dataframe\">\n",
       "  <thead>\n",
       "    <tr style=\"text-align: right;\">\n",
       "      <th></th>\n",
       "      <th>video_id</th>\n",
       "      <th>comment_text</th>\n",
       "      <th>likes</th>\n",
       "      <th>replies</th>\n",
       "    </tr>\n",
       "  </thead>\n",
       "  <tbody>\n",
       "    <tr>\n",
       "      <th>0</th>\n",
       "      <td>XpVt6Z1Gjjo</td>\n",
       "      <td>Logan Paul it's yo big day ‼️‼️‼️</td>\n",
       "      <td>4</td>\n",
       "      <td>0</td>\n",
       "    </tr>\n",
       "    <tr>\n",
       "      <th>1</th>\n",
       "      <td>XpVt6Z1Gjjo</td>\n",
       "      <td>I've been following you from the start of your...</td>\n",
       "      <td>3</td>\n",
       "      <td>0</td>\n",
       "    </tr>\n",
       "    <tr>\n",
       "      <th>2</th>\n",
       "      <td>XpVt6Z1Gjjo</td>\n",
       "      <td>Say hi to Kong and maverick for me</td>\n",
       "      <td>3</td>\n",
       "      <td>0</td>\n",
       "    </tr>\n",
       "    <tr>\n",
       "      <th>3</th>\n",
       "      <td>XpVt6Z1Gjjo</td>\n",
       "      <td>MY FAN . attendance</td>\n",
       "      <td>3</td>\n",
       "      <td>0</td>\n",
       "    </tr>\n",
       "    <tr>\n",
       "      <th>4</th>\n",
       "      <td>XpVt6Z1Gjjo</td>\n",
       "      <td>trending 😉</td>\n",
       "      <td>3</td>\n",
       "      <td>0</td>\n",
       "    </tr>\n",
       "  </tbody>\n",
       "</table>\n",
       "</div>"
      ],
      "text/plain": [
       "      video_id                                       comment_text likes  \\\n",
       "0  XpVt6Z1Gjjo                  Logan Paul it's yo big day ‼️‼️‼️     4   \n",
       "1  XpVt6Z1Gjjo  I've been following you from the start of your...     3   \n",
       "2  XpVt6Z1Gjjo                 Say hi to Kong and maverick for me     3   \n",
       "3  XpVt6Z1Gjjo                                MY FAN . attendance     3   \n",
       "4  XpVt6Z1Gjjo                                         trending 😉     3   \n",
       "\n",
       "  replies  \n",
       "0       0  \n",
       "1       0  \n",
       "2       0  \n",
       "3       0  \n",
       "4       0  "
      ]
     },
     "execution_count": 3,
     "metadata": {},
     "output_type": "execute_result"
    }
   ],
   "source": [
    "data.head()"
   ]
  },
  {
   "cell_type": "markdown",
   "id": "f9962b10",
   "metadata": {},
   "source": [
    "- Data.head() prints top 5 rows of the DataFrame and name_of_df.tail() prints bottom 5 values of the rows you can change the number of rows to be seen by adding the number between the function for eg - name_of_df.head(10) will show use top 10 rows."
   ]
  },
  {
   "cell_type": "code",
   "execution_count": 4,
   "id": "ccc678c4",
   "metadata": {
    "scrolled": true
   },
   "outputs": [
    {
     "data": {
      "text/plain": [
       "video_id         0\n",
       "comment_text    25\n",
       "likes            0\n",
       "replies          0\n",
       "dtype: int64"
      ]
     },
     "execution_count": 4,
     "metadata": {},
     "output_type": "execute_result"
    }
   ],
   "source": [
    "data.isnull().sum()"
   ]
  },
  {
   "cell_type": "markdown",
   "id": "5b8ce9ca",
   "metadata": {},
   "source": [
    "- name_of_df.isnull().sum() is used to check the null values in the data frame in each coulmn "
   ]
  },
  {
   "cell_type": "code",
   "execution_count": 5,
   "id": "dd175eb6",
   "metadata": {},
   "outputs": [],
   "source": [
    "data.dropna(inplace=True)"
   ]
  },
  {
   "cell_type": "markdown",
   "id": "22778b62",
   "metadata": {},
   "source": [
    "- name_of_df.dropna(inplace = True) this function is used to drop the null values. 'inplace = True' is used for permanent change  "
   ]
  },
  {
   "cell_type": "code",
   "execution_count": 6,
   "id": "8fa3fad0",
   "metadata": {},
   "outputs": [
    {
     "data": {
      "text/plain": [
       "video_id        0\n",
       "comment_text    0\n",
       "likes           0\n",
       "replies         0\n",
       "dtype: int64"
      ]
     },
     "execution_count": 6,
     "metadata": {},
     "output_type": "execute_result"
    }
   ],
   "source": [
    "data.isnull().sum()"
   ]
  },
  {
   "cell_type": "code",
   "execution_count": 7,
   "id": "047d964a",
   "metadata": {
    "scrolled": true
   },
   "outputs": [
    {
     "data": {
      "text/plain": [
       "(691375, 4)"
      ]
     },
     "execution_count": 7,
     "metadata": {},
     "output_type": "execute_result"
    }
   ],
   "source": [
    "data.shape"
   ]
  },
  {
   "cell_type": "markdown",
   "id": "495fec43",
   "metadata": {},
   "source": [
    "- name_of_df.shape -> is used to check number of rows and columns in a DataFrame"
   ]
  },
  {
   "cell_type": "markdown",
   "id": "5daec3ee",
   "metadata": {},
   "source": [
    "## Data Processing"
   ]
  },
  {
   "cell_type": "code",
   "execution_count": 8,
   "id": "2b8319dc",
   "metadata": {},
   "outputs": [],
   "source": [
    "# !pip install textblob"
   ]
  },
  {
   "cell_type": "code",
   "execution_count": 9,
   "id": "30f54944",
   "metadata": {},
   "outputs": [],
   "source": [
    "from textblob import TextBlob"
   ]
  },
  {
   "cell_type": "code",
   "execution_count": 10,
   "id": "3c5962dd",
   "metadata": {},
   "outputs": [
    {
     "data": {
      "text/html": [
       "<div>\n",
       "<style scoped>\n",
       "    .dataframe tbody tr th:only-of-type {\n",
       "        vertical-align: middle;\n",
       "    }\n",
       "\n",
       "    .dataframe tbody tr th {\n",
       "        vertical-align: top;\n",
       "    }\n",
       "\n",
       "    .dataframe thead th {\n",
       "        text-align: right;\n",
       "    }\n",
       "</style>\n",
       "<table border=\"1\" class=\"dataframe\">\n",
       "  <thead>\n",
       "    <tr style=\"text-align: right;\">\n",
       "      <th></th>\n",
       "      <th>video_id</th>\n",
       "      <th>comment_text</th>\n",
       "      <th>likes</th>\n",
       "      <th>replies</th>\n",
       "    </tr>\n",
       "  </thead>\n",
       "  <tbody>\n",
       "    <tr>\n",
       "      <th>0</th>\n",
       "      <td>XpVt6Z1Gjjo</td>\n",
       "      <td>Logan Paul it's yo big day ‼️‼️‼️</td>\n",
       "      <td>4</td>\n",
       "      <td>0</td>\n",
       "    </tr>\n",
       "    <tr>\n",
       "      <th>1</th>\n",
       "      <td>XpVt6Z1Gjjo</td>\n",
       "      <td>I've been following you from the start of your...</td>\n",
       "      <td>3</td>\n",
       "      <td>0</td>\n",
       "    </tr>\n",
       "    <tr>\n",
       "      <th>2</th>\n",
       "      <td>XpVt6Z1Gjjo</td>\n",
       "      <td>Say hi to Kong and maverick for me</td>\n",
       "      <td>3</td>\n",
       "      <td>0</td>\n",
       "    </tr>\n",
       "    <tr>\n",
       "      <th>3</th>\n",
       "      <td>XpVt6Z1Gjjo</td>\n",
       "      <td>MY FAN . attendance</td>\n",
       "      <td>3</td>\n",
       "      <td>0</td>\n",
       "    </tr>\n",
       "    <tr>\n",
       "      <th>4</th>\n",
       "      <td>XpVt6Z1Gjjo</td>\n",
       "      <td>trending 😉</td>\n",
       "      <td>3</td>\n",
       "      <td>0</td>\n",
       "    </tr>\n",
       "    <tr>\n",
       "      <th>5</th>\n",
       "      <td>XpVt6Z1Gjjo</td>\n",
       "      <td>#1 on trending AYYEEEEE</td>\n",
       "      <td>3</td>\n",
       "      <td>0</td>\n",
       "    </tr>\n",
       "  </tbody>\n",
       "</table>\n",
       "</div>"
      ],
      "text/plain": [
       "      video_id                                       comment_text likes  \\\n",
       "0  XpVt6Z1Gjjo                  Logan Paul it's yo big day ‼️‼️‼️     4   \n",
       "1  XpVt6Z1Gjjo  I've been following you from the start of your...     3   \n",
       "2  XpVt6Z1Gjjo                 Say hi to Kong and maverick for me     3   \n",
       "3  XpVt6Z1Gjjo                                MY FAN . attendance     3   \n",
       "4  XpVt6Z1Gjjo                                         trending 😉     3   \n",
       "5  XpVt6Z1Gjjo                            #1 on trending AYYEEEEE     3   \n",
       "\n",
       "  replies  \n",
       "0       0  \n",
       "1       0  \n",
       "2       0  \n",
       "3       0  \n",
       "4       0  \n",
       "5       0  "
      ]
     },
     "execution_count": 10,
     "metadata": {},
     "output_type": "execute_result"
    }
   ],
   "source": [
    "data.head(6)"
   ]
  },
  {
   "cell_type": "code",
   "execution_count": 11,
   "id": "3a590581",
   "metadata": {},
   "outputs": [
    {
     "data": {
      "text/plain": [
       "0.0"
      ]
     },
     "execution_count": 11,
     "metadata": {},
     "output_type": "execute_result"
    }
   ],
   "source": [
    "TextBlob(\"Logan Paul it's yo big day ‼️‼️‼️\").sentiment.polarity"
   ]
  },
  {
   "cell_type": "code",
   "execution_count": null,
   "id": "27ee1ad3",
   "metadata": {},
   "outputs": [],
   "source": [
    "polarity = []\n",
    "\n",
    "for comment in data['comment_text']:\n",
    "    try:\n",
    "        polarity.append(TextBlob(comment).sentiment.polarity)\n",
    "    except:\n",
    "        polarity.append(0)\n",
    "        "
   ]
  },
  {
   "cell_type": "code",
   "execution_count": null,
   "id": "6a55e06e",
   "metadata": {},
   "outputs": [],
   "source": [
    "len(polarity)"
   ]
  },
  {
   "cell_type": "code",
   "execution_count": null,
   "id": "171f9edb",
   "metadata": {},
   "outputs": [],
   "source": [
    "data['polarity'] = polarity"
   ]
  },
  {
   "cell_type": "code",
   "execution_count": null,
   "id": "c4830437",
   "metadata": {
    "scrolled": true
   },
   "outputs": [],
   "source": [
    "data.head()"
   ]
  },
  {
   "cell_type": "code",
   "execution_count": null,
   "id": "c143dd28",
   "metadata": {
    "scrolled": true
   },
   "outputs": [],
   "source": [
    "print(data['polarity'].unique())"
   ]
  },
  {
   "cell_type": "markdown",
   "id": "b3dd670c",
   "metadata": {},
   "source": [
    "- THe above line of codes is used to give a polarity to a sentences i.e sentiment to a sentence -1 polarity is for negative sentiment and 1 is for positive sentiment. To gice polarity to each sentence we used Textbblob library and its inbuilt functions "
   ]
  },
  {
   "cell_type": "markdown",
   "id": "ce528b68",
   "metadata": {},
   "source": [
    "## Word Cloud"
   ]
  },
  {
   "cell_type": "code",
   "execution_count": null,
   "id": "8b70791f",
   "metadata": {},
   "outputs": [],
   "source": [
    "# !pip install wordcloud "
   ]
  },
  {
   "cell_type": "code",
   "execution_count": null,
   "id": "072403e1",
   "metadata": {},
   "outputs": [],
   "source": [
    "from wordcloud import WordCloud, STOPWORDS"
   ]
  },
  {
   "cell_type": "code",
   "execution_count": null,
   "id": "c08c8483",
   "metadata": {
    "scrolled": true
   },
   "outputs": [],
   "source": [
    "len(set(STOPWORDS))"
   ]
  },
  {
   "cell_type": "markdown",
   "id": "b8be246e",
   "metadata": {},
   "source": [
    "- removing stops words. Stop words are common words that are often filtered out before processing textual data in various natural language processing (NLP) tasks. These words are considered to be of little value in terms of the overall meaning and context of the text. Common stop words include articles, prepositions, conjunctions, and pronouns such as \"a,\" \"an,\" \"the,\" \"and,\" \"or,\" \"but,\" \"is,\" \"in,\" \"on,\" \"at,\" etc."
   ]
  },
  {
   "cell_type": "code",
   "execution_count": null,
   "id": "587f0164",
   "metadata": {},
   "outputs": [],
   "source": [
    "type(data['comment_text'])"
   ]
  },
  {
   "cell_type": "markdown",
   "id": "f6c233af",
   "metadata": {},
   "source": [
    "#### Wordcloud for positive words."
   ]
  },
  {
   "cell_type": "code",
   "execution_count": null,
   "id": "4e88c670",
   "metadata": {},
   "outputs": [],
   "source": [
    "positive_comments = data[data['polarity'] == 1] "
   ]
  },
  {
   "cell_type": "code",
   "execution_count": null,
   "id": "863a6561",
   "metadata": {},
   "outputs": [],
   "source": [
    "total_comments_positive = ' '.join(positive_comments['comment_text'])"
   ]
  },
  {
   "cell_type": "code",
   "execution_count": null,
   "id": "c616cd17",
   "metadata": {},
   "outputs": [],
   "source": [
    "# total_comments_positive"
   ]
  },
  {
   "cell_type": "code",
   "execution_count": null,
   "id": "5377431c",
   "metadata": {},
   "outputs": [],
   "source": [
    "wordcloud = WordCloud(stopwords = set(STOPWORDS)).generate(total_comments_positive)"
   ]
  },
  {
   "cell_type": "code",
   "execution_count": null,
   "id": "09428d77",
   "metadata": {},
   "outputs": [],
   "source": [
    "plt.imshow(wordcloud)\n",
    "plt.axis('off')"
   ]
  },
  {
   "cell_type": "markdown",
   "id": "83b77837",
   "metadata": {},
   "source": [
    "### Wordcloud for negative comments"
   ]
  },
  {
   "cell_type": "code",
   "execution_count": null,
   "id": "0334aeb7",
   "metadata": {},
   "outputs": [],
   "source": [
    "negative_comments = data[data['polarity']== -1]"
   ]
  },
  {
   "cell_type": "code",
   "execution_count": null,
   "id": "098e333c",
   "metadata": {},
   "outputs": [],
   "source": [
    "total_comments_negative = ' '.join(negative_comments['comment_text'])"
   ]
  },
  {
   "cell_type": "code",
   "execution_count": null,
   "id": "0fcb4fea",
   "metadata": {},
   "outputs": [],
   "source": [
    "wordcloud2 =  WordCloud(stopwords = set(STOPWORDS)).generate(total_comments_negative)"
   ]
  },
  {
   "cell_type": "code",
   "execution_count": null,
   "id": "5df74514",
   "metadata": {},
   "outputs": [],
   "source": [
    "plt.imshow(wordcloud2)\n",
    "plt.axis('off')"
   ]
  },
  {
   "cell_type": "markdown",
   "id": "d2a25209",
   "metadata": {},
   "source": [
    "## Emoji Analysis"
   ]
  },
  {
   "cell_type": "code",
   "execution_count": null,
   "id": "bad1da69",
   "metadata": {},
   "outputs": [],
   "source": [
    "# !pip install emoji==2.2.0"
   ]
  },
  {
   "cell_type": "code",
   "execution_count": null,
   "id": "e292fae9",
   "metadata": {},
   "outputs": [],
   "source": [
    "import emoji"
   ]
  },
  {
   "cell_type": "code",
   "execution_count": null,
   "id": "1714eac8",
   "metadata": {},
   "outputs": [],
   "source": [
    "emoji.__version__"
   ]
  },
  {
   "cell_type": "code",
   "execution_count": null,
   "id": "dd334adf",
   "metadata": {},
   "outputs": [],
   "source": [
    "data['comment_text'].head()"
   ]
  },
  {
   "cell_type": "code",
   "execution_count": null,
   "id": "55b4e557",
   "metadata": {},
   "outputs": [],
   "source": [
    "comment = ' trending 😉'"
   ]
  },
  {
   "cell_type": "code",
   "execution_count": null,
   "id": "e5c5c508",
   "metadata": {},
   "outputs": [],
   "source": [
    "[char for char in comment if char in emoji.EMOJI_DATA]"
   ]
  },
  {
   "cell_type": "code",
   "execution_count": null,
   "id": "8aacf0c6",
   "metadata": {},
   "outputs": [],
   "source": [
    "emoji_list = []\n",
    "    \n",
    "for comment in data['comment_text'].dropna():\n",
    "    for char in comment:\n",
    "        if char in emoji.EMOJI_DATA:\n",
    "            emoji_list.append(char)\n"
   ]
  },
  {
   "cell_type": "code",
   "execution_count": null,
   "id": "85ab4c72",
   "metadata": {},
   "outputs": [],
   "source": [
    "emoji_list[0:10]"
   ]
  },
  {
   "cell_type": "code",
   "execution_count": null,
   "id": "1ef7d56b",
   "metadata": {},
   "outputs": [],
   "source": [
    "from collections import Counter"
   ]
  },
  {
   "cell_type": "code",
   "execution_count": null,
   "id": "489e81fc",
   "metadata": {},
   "outputs": [],
   "source": [
    "Counter(emoji_list).most_common(10)"
   ]
  },
  {
   "cell_type": "code",
   "execution_count": null,
   "id": "a98e3006",
   "metadata": {},
   "outputs": [],
   "source": [
    "frequency = [Counter(emoji_list).most_common(10)[i][1] for i in range(10)]"
   ]
  },
  {
   "cell_type": "code",
   "execution_count": null,
   "id": "4c2a4325",
   "metadata": {},
   "outputs": [],
   "source": [
    "emojis = [Counter(emoji_list).most_common(10)[i][0] for i in range(10)]"
   ]
  },
  {
   "cell_type": "code",
   "execution_count": null,
   "id": "0b69aeff",
   "metadata": {},
   "outputs": [],
   "source": [
    "import plotly.graph_objs as go\n",
    "from plotly.offline import iplot"
   ]
  },
  {
   "cell_type": "code",
   "execution_count": null,
   "id": "3d9905fa",
   "metadata": {},
   "outputs": [],
   "source": [
    "trace =go.Bar(x=emojis, y=frequency)"
   ]
  },
  {
   "cell_type": "code",
   "execution_count": null,
   "id": "c0d2f1d1",
   "metadata": {},
   "outputs": [],
   "source": [
    "iplot([trace])"
   ]
  },
  {
   "cell_type": "markdown",
   "id": "60123db8",
   "metadata": {},
   "source": [
    "## Youtube Comments"
   ]
  },
  {
   "cell_type": "code",
   "execution_count": null,
   "id": "eb465d07",
   "metadata": {},
   "outputs": [],
   "source": [
    "import os"
   ]
  },
  {
   "cell_type": "markdown",
   "id": "47e84b72",
   "metadata": {},
   "source": [
    "- The 'os' module in Python provides a way of using operating system dependent functionality like reading or writing to the file system, handling directories, executing system commands, and more. It is part of the standard library, so it comes with Python and does not need to be installed separately."
   ]
  },
  {
   "cell_type": "code",
   "execution_count": null,
   "id": "d1bdfb01",
   "metadata": {},
   "outputs": [],
   "source": [
    "files = os.listdir(r'C:\\Users\\Atharva\\Desktop\\aaaaaaa\\Study\\Data Analysis Course\\additional_data')"
   ]
  },
  {
   "cell_type": "markdown",
   "id": "b61fcc94",
   "metadata": {},
   "source": [
    "- The os.listdir function in Python is used to list all files and directories in a specified directory."
   ]
  },
  {
   "cell_type": "code",
   "execution_count": null,
   "id": "54533da9",
   "metadata": {},
   "outputs": [],
   "source": [
    "files"
   ]
  },
  {
   "cell_type": "code",
   "execution_count": null,
   "id": "a25998c8",
   "metadata": {},
   "outputs": [],
   "source": [
    "files_csv = [file for file in files if '.csv' in file]"
   ]
  },
  {
   "cell_type": "code",
   "execution_count": null,
   "id": "9822c938",
   "metadata": {},
   "outputs": [],
   "source": [
    "files_csv"
   ]
  },
  {
   "cell_type": "code",
   "execution_count": null,
   "id": "b4cb9228",
   "metadata": {},
   "outputs": [],
   "source": [
    "full_df = pd.DataFrame() # Creating a empty data drame to concat all the dataframes\n",
    "path = r'C:\\Users\\Atharva\\Desktop\\aaaaaaa\\Study\\Data Analysis Course\\additional_data'\n",
    "\n",
    "for file in files_csv:\n",
    "    current_df = pd.read_csv(path+'/'+file, encoding='iso-8859-1', error_bad_lines = False)\n",
    "    \n",
    "    full_df = pd.concat([full_df , current_df], ignore_index = True)"
   ]
  },
  {
   "cell_type": "markdown",
   "id": "ff2934a0",
   "metadata": {},
   "source": [
    "- 'ignore_index = True' ignore the existing row indices of the DataFrames and to reindex the resulting DataFrame. When ignore_index=True, the resulting DataFrame will have a new integer index that ranges from 0 to n-1, where n is the total number of rows in the concatenated DataFrame."
   ]
  },
  {
   "cell_type": "code",
   "execution_count": null,
   "id": "0b7d6ff8",
   "metadata": {},
   "outputs": [],
   "source": [
    "full_df.shape"
   ]
  },
  {
   "cell_type": "code",
   "execution_count": null,
   "id": "d6d25f33",
   "metadata": {
    "scrolled": false
   },
   "outputs": [],
   "source": [
    "full_df.info()"
   ]
  },
  {
   "cell_type": "markdown",
   "id": "395a14ed",
   "metadata": {},
   "source": [
    "- The df.info() method in pandas is used to get a concise summary of a DataFrame. This method provides important details about the DataFrame, including the index dtype and column dtypes, non-null values, and memory usage. It is particularly useful for quickly understanding the structure and quality of your data."
   ]
  },
  {
   "cell_type": "code",
   "execution_count": null,
   "id": "16fd7843",
   "metadata": {
    "scrolled": false
   },
   "outputs": [],
   "source": [
    "full_df.describe()"
   ]
  },
  {
   "cell_type": "markdown",
   "id": "d1f6f27a",
   "metadata": {},
   "source": [
    "- The df.describe() function in pandas is used to generate descriptive statistics of a DataFrame. It provides a summary of the central tendency, dispersion, and shape of a dataset's distribution, excluding NaN values. This function is particularly useful for quickly getting an overview of numeric data in a DataFrame."
   ]
  },
  {
   "cell_type": "code",
   "execution_count": null,
   "id": "77a44de1",
   "metadata": {},
   "outputs": [],
   "source": [
    "full_df.duplicated().sum()"
   ]
  },
  {
   "cell_type": "markdown",
   "id": "363ce20f",
   "metadata": {},
   "source": [
    "df.duplicated() function is used to check duplicated values in the data frames"
   ]
  },
  {
   "cell_type": "code",
   "execution_count": null,
   "id": "d912c1a2",
   "metadata": {},
   "outputs": [],
   "source": [
    "full_df[full_df.duplicated()].shape"
   ]
  },
  {
   "cell_type": "code",
   "execution_count": null,
   "id": "e7193d16",
   "metadata": {},
   "outputs": [],
   "source": [
    "full_df = full_df.drop_duplicates()"
   ]
  },
  {
   "cell_type": "markdown",
   "id": "88114779",
   "metadata": {},
   "source": [
    "df.drop_duplicated() is used to remove the duplicated values from the data frame"
   ]
  },
  {
   "cell_type": "code",
   "execution_count": null,
   "id": "69c124b0",
   "metadata": {},
   "outputs": [],
   "source": [
    "full_df.shape"
   ]
  },
  {
   "cell_type": "code",
   "execution_count": null,
   "id": "1a3ab974",
   "metadata": {},
   "outputs": [],
   "source": [
    "path = r'C:\\Users\\Atharva\\Desktop\\aaaaaaa\\Study\\Data Analysis Course\\additional_data'\n",
    "full_df.to_csv(f'{path}\\youtube_sample.csv', index = False)"
   ]
  },
  {
   "cell_type": "markdown",
   "id": "c4e00918",
   "metadata": {},
   "source": [
    "df.to_csv exports the created dataframe to our desired path in csv format"
   ]
  },
  {
   "cell_type": "code",
   "execution_count": null,
   "id": "9625dc19",
   "metadata": {},
   "outputs": [],
   "source": [
    "full_df.to_json(f'{path}\\youtube_sample.json')"
   ]
  },
  {
   "cell_type": "markdown",
   "id": "3094e933",
   "metadata": {},
   "source": [
    "df.to_json exports the created dataframe to our desired path in json format"
   ]
  },
  {
   "cell_type": "code",
   "execution_count": null,
   "id": "fb1e1834",
   "metadata": {},
   "outputs": [],
   "source": [
    "from sqlalchemy import create_engine"
   ]
  },
  {
   "cell_type": "code",
   "execution_count": null,
   "id": "0916e133",
   "metadata": {},
   "outputs": [],
   "source": [
    "engine = create_engine(f'sqlite:///{path}\\YTdc.sqlite')"
   ]
  },
  {
   "cell_type": "code",
   "execution_count": null,
   "id": "d8b4e4a7",
   "metadata": {},
   "outputs": [],
   "source": [
    "# full_df[0:1000].to_sql('Users', con = engine, if_exists = 'append')"
   ]
  },
  {
   "cell_type": "code",
   "execution_count": null,
   "id": "b82809f7",
   "metadata": {},
   "outputs": [],
   "source": [
    "full_df = pd.read_csv(r'additional_data\\youtube_sample.csv')"
   ]
  },
  {
   "cell_type": "code",
   "execution_count": null,
   "id": "8e9941f9",
   "metadata": {
    "scrolled": true
   },
   "outputs": [],
   "source": [
    "full_df.head()"
   ]
  },
  {
   "cell_type": "markdown",
   "id": "45143d96",
   "metadata": {},
   "source": [
    "### Below we will extract category title using data manipluation "
   ]
  },
  {
   "cell_type": "code",
   "execution_count": null,
   "id": "11b4e3f2",
   "metadata": {},
   "outputs": [],
   "source": [
    "full_df['category_id'].unique() "
   ]
  },
  {
   "cell_type": "markdown",
   "id": "1450305e",
   "metadata": {},
   "source": [
    "As we can see above there are videos with category id but without thier names and its hard to understand the category of the video by thier ids."
   ]
  },
  {
   "cell_type": "code",
   "execution_count": null,
   "id": "d2a4b6e3",
   "metadata": {},
   "outputs": [],
   "source": [
    "json_df = pd.read_json(fr'{path}\\US_category_id.json') "
   ]
  },
  {
   "cell_type": "markdown",
   "id": "f4e696dc",
   "metadata": {},
   "source": [
    "in the above cell we took one jsaon dataframe to extract category name from the dictionary you can take any other category data frame present in the data files"
   ]
  },
  {
   "cell_type": "code",
   "execution_count": null,
   "id": "dd378484",
   "metadata": {},
   "outputs": [],
   "source": [
    "json_df"
   ]
  },
  {
   "cell_type": "code",
   "execution_count": null,
   "id": "21adf475",
   "metadata": {
    "scrolled": false
   },
   "outputs": [],
   "source": [
    "json_df['items'][1]"
   ]
  },
  {
   "cell_type": "markdown",
   "id": "d1851f99",
   "metadata": {},
   "source": [
    "- we can see that the category name is in the items column in our dataframe and is in dictionary. to access the dictonary we will have to manipulate it and extract our desired category name"
   ]
  },
  {
   "cell_type": "code",
   "execution_count": null,
   "id": "0cdeaf61",
   "metadata": {},
   "outputs": [],
   "source": [
    "cat_dict = {} # creating dictionary to store category name and id\n",
    "\n",
    "for item in json_df['items'].values:\n",
    "    cat_dict[ int(item[\"id\"])] = item['snippet']['title']\n",
    "    \n",
    "cat_dict"
   ]
  },
  {
   "cell_type": "code",
   "execution_count": null,
   "id": "f11ff2d5",
   "metadata": {},
   "outputs": [],
   "source": [
    "full_df['category_name'] = full_df['category_id'].map(cat_dict) # Creating a new column and mapping the title to its desired id"
   ]
  },
  {
   "cell_type": "code",
   "execution_count": null,
   "id": "08b666d9",
   "metadata": {
    "scrolled": true
   },
   "outputs": [],
   "source": [
    "full_df[['category_id','category_name']].head()"
   ]
  },
  {
   "cell_type": "markdown",
   "id": "1c201ef4",
   "metadata": {},
   "source": [
    "Now its easier for us to understand the type/category of the video and we successfully were able to extract the category name from the table using data manipulation "
   ]
  },
  {
   "cell_type": "markdown",
   "id": "03fa8fc0",
   "metadata": {},
   "source": [
    "### Data visualization"
   ]
  },
  {
   "cell_type": "code",
   "execution_count": null,
   "id": "27270543",
   "metadata": {
    "scrolled": true
   },
   "outputs": [],
   "source": [
    "full_df['likes'].describe()"
   ]
  },
  {
   "cell_type": "code",
   "execution_count": null,
   "id": "58288770",
   "metadata": {},
   "outputs": [],
   "source": [
    "plt.figure(figsize=(12,8))\n",
    "sns.boxplot(x='category_name', y='likes', data = full_df)\n",
    "plt.xticks(rotation='vertical')"
   ]
  },
  {
   "cell_type": "code",
   "execution_count": null,
   "id": "107eb3ca",
   "metadata": {},
   "outputs": [],
   "source": [
    "full_df['like_rate'] =  (full_df['likes']/full_df['views']) * 100 \n",
    "full_df['dislike_rate'] = (full_df['dislikes']/full_df['views']) * 100 \n",
    "full_df['comment_count_rate'] = (full_df['comment_count']/full_df['views']) * 100  "
   ]
  },
  {
   "cell_type": "code",
   "execution_count": null,
   "id": "8a9abd3a",
   "metadata": {},
   "outputs": [],
   "source": [
    "full_df.columns"
   ]
  },
  {
   "cell_type": "code",
   "execution_count": null,
   "id": "2eec0fcd",
   "metadata": {},
   "outputs": [],
   "source": [
    "plt.figure(figsize=(8,6))\n",
    "sns.boxplot(x='category_name', y='like_rate', data = full_df)\n",
    "plt.xticks(rotation='vertical')\n",
    "plt.show()"
   ]
  },
  {
   "cell_type": "code",
   "execution_count": null,
   "id": "08f30f84",
   "metadata": {},
   "outputs": [],
   "source": [
    "sns.regplot(x='views',y='likes', data= full_df)"
   ]
  },
  {
   "cell_type": "code",
   "execution_count": null,
   "id": "e12787a7",
   "metadata": {},
   "outputs": [],
   "source": [
    "full_df.columns"
   ]
  },
  {
   "cell_type": "code",
   "execution_count": null,
   "id": "9a4f18df",
   "metadata": {},
   "outputs": [],
   "source": [
    "full_df[['views', 'likes', 'dislikes']].corr()"
   ]
  },
  {
   "cell_type": "code",
   "execution_count": null,
   "id": "da78c8f2",
   "metadata": {},
   "outputs": [],
   "source": [
    "sns.heatmap(full_df[['views', 'likes', 'dislikes']].corr(), annot = True)"
   ]
  },
  {
   "cell_type": "code",
   "execution_count": null,
   "id": "7dc0a606",
   "metadata": {},
   "outputs": [],
   "source": [
    "full_df.head(6)"
   ]
  },
  {
   "cell_type": "code",
   "execution_count": null,
   "id": "0b8dd705",
   "metadata": {},
   "outputs": [],
   "source": [
    "full_df['channel_title'].value_counts()"
   ]
  },
  {
   "cell_type": "code",
   "execution_count": null,
   "id": "e63dd51a",
   "metadata": {},
   "outputs": [],
   "source": [
    "top_20_channels = full_df.groupby(['channel_title']).size().sort_values(ascending = False).reset_index().head(20)"
   ]
  },
  {
   "cell_type": "code",
   "execution_count": null,
   "id": "be5efc19",
   "metadata": {},
   "outputs": [],
   "source": [
    "top_20_channels"
   ]
  },
  {
   "cell_type": "code",
   "execution_count": null,
   "id": "da94f4ad",
   "metadata": {},
   "outputs": [],
   "source": [
    "top_20_channels.rename(columns = {0:'total_videos'}, inplace = True)"
   ]
  },
  {
   "cell_type": "code",
   "execution_count": null,
   "id": "6a6ab107",
   "metadata": {},
   "outputs": [],
   "source": [
    "top_20_channels"
   ]
  },
  {
   "cell_type": "code",
   "execution_count": null,
   "id": "d624ea8e",
   "metadata": {},
   "outputs": [],
   "source": [
    "import plotly.express as px"
   ]
  },
  {
   "cell_type": "code",
   "execution_count": null,
   "id": "3a65015a",
   "metadata": {},
   "outputs": [],
   "source": [
    "px.bar(data_frame=top_20_channels[0:20], x = 'channel_title', y='total_videos')"
   ]
  },
  {
   "cell_type": "markdown",
   "id": "25dfa6f2",
   "metadata": {},
   "source": [
    "### To check if adding punctuation in the title helps to increase views or likes"
   ]
  },
  {
   "cell_type": "code",
   "execution_count": null,
   "id": "035e850b",
   "metadata": {},
   "outputs": [],
   "source": [
    "full_df['title'][0]"
   ]
  },
  {
   "cell_type": "code",
   "execution_count": null,
   "id": "ac867337",
   "metadata": {},
   "outputs": [],
   "source": [
    "import string "
   ]
  },
  {
   "cell_type": "code",
   "execution_count": null,
   "id": "971ef5aa",
   "metadata": {},
   "outputs": [],
   "source": [
    "string.punctuation"
   ]
  },
  {
   "cell_type": "code",
   "execution_count": null,
   "id": "4253ea38",
   "metadata": {},
   "outputs": [],
   "source": [
    "len([char for char in full_df['title'][0] if char in string.punctuation])"
   ]
  },
  {
   "cell_type": "code",
   "execution_count": null,
   "id": "72735a94",
   "metadata": {},
   "outputs": [],
   "source": [
    "def puncuation_count(text):\n",
    "    return len([char for char in text if char in string.punctuation])"
   ]
  },
  {
   "cell_type": "code",
   "execution_count": null,
   "id": "543aeb91",
   "metadata": {},
   "outputs": [],
   "source": [
    "full_df['punctuation_count'] = full_df['title'].apply(puncuation_count)"
   ]
  },
  {
   "cell_type": "code",
   "execution_count": null,
   "id": "8c024e50",
   "metadata": {},
   "outputs": [],
   "source": [
    "# full_df.drop(columns = 'punctuation_count', inplace = True)"
   ]
  },
  {
   "cell_type": "code",
   "execution_count": null,
   "id": "c884a579",
   "metadata": {},
   "outputs": [],
   "source": [
    "full_df['punctuation_count']"
   ]
  },
  {
   "cell_type": "code",
   "execution_count": null,
   "id": "4f532913",
   "metadata": {},
   "outputs": [],
   "source": [
    "plt.figure(figsize=(8,6))\n",
    "sns.boxplot(x='punctuation_count', y='views', data = full_df[0:1000])\n",
    "plt.show()"
   ]
  },
  {
   "cell_type": "code",
   "execution_count": null,
   "id": "d075c2ad",
   "metadata": {},
   "outputs": [],
   "source": [
    "plt.figure(figsize=(8,6))\n",
    "sns.boxplot(x='punctuation_count', y='likes', data = full_df[0:1000])\n",
    "plt.show()"
   ]
  }
 ],
 "metadata": {
  "kernelspec": {
   "display_name": "Python 3 (ipykernel)",
   "language": "python",
   "name": "python3"
  },
  "language_info": {
   "codemirror_mode": {
    "name": "ipython",
    "version": 3
   },
   "file_extension": ".py",
   "mimetype": "text/x-python",
   "name": "python",
   "nbconvert_exporter": "python",
   "pygments_lexer": "ipython3",
   "version": "3.10.9"
  }
 },
 "nbformat": 4,
 "nbformat_minor": 5
}
